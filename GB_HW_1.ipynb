{
 "cells": [
  {
   "cell_type": "markdown",
   "id": "307376ac",
   "metadata": {},
   "source": [
    "## Задание 1\n",
    "\n",
    "На складе лежат разные фрукты в разном количестве.\n",
    "Нужно написать функцию, которая на вход принимает любое количество названий фруктов и их количество, а возвращает общее количество фруктов на складе"
   ]
  },
  {
   "cell_type": "code",
   "execution_count": 1,
   "id": "2b252a08",
   "metadata": {},
   "outputs": [],
   "source": [
    "fruits = {'apple': 5, 'orange': 4, 'pineapple': 3, 'grape': 8, 'kiwi': 6}"
   ]
  },
  {
   "cell_type": "code",
   "execution_count": 2,
   "id": "2ba0512c",
   "metadata": {},
   "outputs": [],
   "source": [
    "def get_count(**kwargs):\n",
    "    return sum(kwargs.values())   "
   ]
  },
  {
   "cell_type": "code",
   "execution_count": 3,
   "id": "b7366b39",
   "metadata": {},
   "outputs": [
    {
     "data": {
      "text/plain": [
       "26"
      ]
     },
     "execution_count": 3,
     "metadata": {},
     "output_type": "execute_result"
    }
   ],
   "source": [
    "get_count(**fruits)"
   ]
  },
  {
   "cell_type": "markdown",
   "id": "d995bf0c",
   "metadata": {},
   "source": [
    "<br>"
   ]
  },
  {
   "cell_type": "markdown",
   "id": "2f0a7488",
   "metadata": {},
   "source": [
    "## Задание 2\n",
    "\n",
    "Дан список с затратами на рекламу. Но в данных есть ошибки, некоторые затраты имеют отрицательную величину. Удалите такие значения из списка и посчитайте суммарные затраты.\n",
    "Используйте list comprehensions"
   ]
  },
  {
   "cell_type": "code",
   "execution_count": 4,
   "id": "f8f2ba84",
   "metadata": {},
   "outputs": [],
   "source": [
    "my_list = [100, 125, -90, 345, 655, -1, 0, 200]"
   ]
  },
  {
   "cell_type": "code",
   "execution_count": 5,
   "id": "1764e23e",
   "metadata": {},
   "outputs": [
    {
     "data": {
      "text/plain": [
       "1425"
      ]
     },
     "execution_count": 5,
     "metadata": {},
     "output_type": "execute_result"
    }
   ],
   "source": [
    "sum([i for i in my_list if i > 0])"
   ]
  },
  {
   "cell_type": "markdown",
   "id": "e299085d",
   "metadata": {},
   "source": [
    "## Задание 3\n",
    "\n",
    "### Задание 3.1\n",
    "Даны два списка:\n",
    "- дата покупки\n",
    "- суммы покупок по датам\n",
    "\n",
    "Найдите, какая выручка у компании в ноябре\n",
    "Используйте list comprehensions"
   ]
  },
  {
   "cell_type": "code",
   "execution_count": 6,
   "id": "1a959a34",
   "metadata": {},
   "outputs": [],
   "source": [
    "b_dates = ['2021-09-14', '2021-12-15', '2021-09-08', '2021-12-05', '2021-10-09', '2021-09-30', '2021-12-22', '2021-11-29', \n",
    "          '2021-12-24', '2021-11-26', '2021-10-27', '2021-12-18', '2021-11-09', '2021-11-23', '2021-09-27', '2021-10-02', \n",
    "          '2021-12-27', '2021-09-20', '2021-12-13', '2021-11-01', '2021-11-09', '2021-12-06', '2021-12-08', '2021-10-09', \n",
    "          '2021-10-31', '2021-09-30', '2021-11-09', '2021-12-13', '2021-10-26', '2021-12-09']\n",
    "\n",
    "b_costs = [1270, 8413, 9028, 3703, 5739, 4095, 295, 4944, 5723, 3701, 4471, 651, 7037, 4274, 6275, 4988, 6930, 2971, 6592, \n",
    "           2004, 2822, 519, 3406, 2732, 5015, 2008, 316, 6333, 5700, 2887]"
   ]
  },
  {
   "cell_type": "code",
   "execution_count": 7,
   "id": "a083c3e9",
   "metadata": {},
   "outputs": [
    {
     "data": {
      "text/plain": [
       "25647"
      ]
     },
     "execution_count": 7,
     "metadata": {},
     "output_type": "execute_result"
    }
   ],
   "source": [
    "sum([b_costs[i] if b_dates[i][5:7] == '09' else 0 for i in range(len(b_dates))])"
   ]
  },
  {
   "cell_type": "markdown",
   "id": "0ef17c8b",
   "metadata": {},
   "source": [
    "### Задание 3.2\n",
    "Найдите выручку компании в зависимости от месяца\n",
    "Для этого напишите функцию, которая на вход принимает список с датами и список с выручкой, а на выходе словарь, где ключи - это месяцы, а значения - это выручка."
   ]
  },
  {
   "cell_type": "code",
   "execution_count": 8,
   "id": "3269b7b7",
   "metadata": {},
   "outputs": [],
   "source": [
    "def create_dict(list1: list, list2: list) -> dict:\n",
    "    my_dict = {}\n",
    "    for i in range(len(list1)):\n",
    "        if list1[i][5:7] not in my_dict:\n",
    "            my_dict[list1[i][5:7]] = 0\n",
    "        else:\n",
    "            my_dict[list1[i][5:7]] += list2[i]\n",
    "    return dict(sorted(my_dict.items()))"
   ]
  },
  {
   "cell_type": "code",
   "execution_count": 9,
   "id": "375a0bd5",
   "metadata": {},
   "outputs": [
    {
     "data": {
      "text/plain": [
       "{'09': 24377, '10': 22906, '11': 20154, '12': 37039}"
      ]
     },
     "execution_count": 9,
     "metadata": {},
     "output_type": "execute_result"
    }
   ],
   "source": [
    "create_dict(b_dates, b_costs)"
   ]
  }
 ],
 "metadata": {
  "kernelspec": {
   "display_name": "Python 3 (ipykernel)",
   "language": "python",
   "name": "python3"
  },
  "language_info": {
   "codemirror_mode": {
    "name": "ipython",
    "version": 3
   },
   "file_extension": ".py",
   "mimetype": "text/x-python",
   "name": "python",
   "nbconvert_exporter": "python",
   "pygments_lexer": "ipython3",
   "version": "3.9.12"
  }
 },
 "nbformat": 4,
 "nbformat_minor": 5
}
